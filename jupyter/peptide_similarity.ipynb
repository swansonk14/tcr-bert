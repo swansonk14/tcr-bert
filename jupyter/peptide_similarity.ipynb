{
 "cells": [
  {
   "cell_type": "code",
   "execution_count": 52,
   "id": "abb27534",
   "metadata": {},
   "outputs": [],
   "source": [
    "from collections import Counter, defaultdict\n",
    "\n",
    "import matplotlib.pyplot as plt\n",
    "import networkx as nx\n",
    "import numpy as np\n",
    "import pandas as pd\n",
    "from Bio import pairwise2\n",
    "from Bio.Align import substitution_matrices\n",
    "from tqdm import trange"
   ]
  },
  {
   "cell_type": "code",
   "execution_count": 137,
   "id": "84aa8874",
   "metadata": {},
   "outputs": [],
   "source": [
    "def clean_data(data: pd.DataFrame, tcr_col: str, pep_col: str) -> pd.DataFrame:\n",
    "    print(f'Raw data size = {len(data):,}')\n",
    "\n",
    "    data = data[data[tcr_col].notna() & data[pep_col].notna()]\n",
    "    data = data.drop_duplicates([tcr_col, pep_col])\n",
    "\n",
    "    print(f'Clean data size = {len(data):,}')\n",
    "\n",
    "    return data"
   ]
  },
  {
   "cell_type": "code",
   "execution_count": 144,
   "id": "218b1901",
   "metadata": {},
   "outputs": [],
   "source": [
    "ALL_METADATA = {\n",
    "    'vdjdb': {\n",
    "        'path': '../../data/vdjdb.tsv',\n",
    "        'sep': '\\t',\n",
    "        'tcr_col': 'CDR3',\n",
    "        'pep_col': 'Epitope'\n",
    "    },\n",
    "    'mcpas': {\n",
    "        'path': '../../data/McPAS-TCR.csv',\n",
    "        'sep': ',',\n",
    "        'tcr_col': 'CDR3.beta.aa',\n",
    "        'pep_col': 'Epitope.peptide'\n",
    "    }\n",
    "}"
   ]
  },
  {
   "cell_type": "code",
   "execution_count": 145,
   "id": "08a2dafa",
   "metadata": {},
   "outputs": [],
   "source": [
    "metadata = ALL_METADATA['vdjdb']\n",
    "# metadata = ALL_METADATA['mcpas']"
   ]
  },
  {
   "cell_type": "code",
   "execution_count": 147,
   "id": "e7684f85",
   "metadata": {},
   "outputs": [
    {
     "name": "stdout",
     "output_type": "stream",
     "text": [
      "Raw data size = 88,263\n",
      "Clean data size = 71,710\n"
     ]
    },
    {
     "data": {
      "text/html": [
       "<div>\n",
       "<style scoped>\n",
       "    .dataframe tbody tr th:only-of-type {\n",
       "        vertical-align: middle;\n",
       "    }\n",
       "\n",
       "    .dataframe tbody tr th {\n",
       "        vertical-align: top;\n",
       "    }\n",
       "\n",
       "    .dataframe thead th {\n",
       "        text-align: right;\n",
       "    }\n",
       "</style>\n",
       "<table border=\"1\" class=\"dataframe\">\n",
       "  <thead>\n",
       "    <tr style=\"text-align: right;\">\n",
       "      <th></th>\n",
       "      <th>complex.id</th>\n",
       "      <th>Gene</th>\n",
       "      <th>CDR3</th>\n",
       "      <th>V</th>\n",
       "      <th>J</th>\n",
       "      <th>Species</th>\n",
       "      <th>MHC A</th>\n",
       "      <th>MHC B</th>\n",
       "      <th>MHC class</th>\n",
       "      <th>Epitope</th>\n",
       "      <th>Epitope gene</th>\n",
       "      <th>Epitope species</th>\n",
       "      <th>Reference</th>\n",
       "      <th>Method</th>\n",
       "      <th>Meta</th>\n",
       "      <th>CDR3fix</th>\n",
       "      <th>Score</th>\n",
       "    </tr>\n",
       "  </thead>\n",
       "  <tbody>\n",
       "    <tr>\n",
       "      <th>0</th>\n",
       "      <td>1</td>\n",
       "      <td>TRA</td>\n",
       "      <td>CIVRAPGRADMRF</td>\n",
       "      <td>TRAV26-1*01</td>\n",
       "      <td>TRAJ43*01</td>\n",
       "      <td>HomoSapiens</td>\n",
       "      <td>HLA-B*08</td>\n",
       "      <td>B2M</td>\n",
       "      <td>MHCI</td>\n",
       "      <td>FLKEKGGL</td>\n",
       "      <td>Nef</td>\n",
       "      <td>HIV-1</td>\n",
       "      <td>PMID:15596521</td>\n",
       "      <td>{\"frequency\": \"\", \"identification\": \"tetramer-...</td>\n",
       "      <td>{\"cell.subset\": \"CD8+\", \"clone.id\": \"\", \"donor...</td>\n",
       "      <td>{\"cdr3\": \"CIVRAPGRADMRF\", \"cdr3_old\": \"CIVRAPG...</td>\n",
       "      <td>2</td>\n",
       "    </tr>\n",
       "    <tr>\n",
       "      <th>1</th>\n",
       "      <td>1</td>\n",
       "      <td>TRB</td>\n",
       "      <td>CASSYLPGQGDHYSNQPQHF</td>\n",
       "      <td>TRBV13*01</td>\n",
       "      <td>TRBJ1-5*01</td>\n",
       "      <td>HomoSapiens</td>\n",
       "      <td>HLA-B*08</td>\n",
       "      <td>B2M</td>\n",
       "      <td>MHCI</td>\n",
       "      <td>FLKEKGGL</td>\n",
       "      <td>Nef</td>\n",
       "      <td>HIV-1</td>\n",
       "      <td>PMID:15596521</td>\n",
       "      <td>{\"frequency\": \"\", \"identification\": \"tetramer-...</td>\n",
       "      <td>{\"cell.subset\": \"CD8+\", \"clone.id\": \"\", \"donor...</td>\n",
       "      <td>{\"cdr3\": \"CASSYLPGQGDHYSNQPQHF\", \"cdr3_old\": \"...</td>\n",
       "      <td>2</td>\n",
       "    </tr>\n",
       "    <tr>\n",
       "      <th>2</th>\n",
       "      <td>0</td>\n",
       "      <td>TRB</td>\n",
       "      <td>CASSFEAGQGFFSNQPQHF</td>\n",
       "      <td>TRBV13*01</td>\n",
       "      <td>TRBJ1-5*01</td>\n",
       "      <td>HomoSapiens</td>\n",
       "      <td>HLA-B*08</td>\n",
       "      <td>B2M</td>\n",
       "      <td>MHCI</td>\n",
       "      <td>FLKEKGGL</td>\n",
       "      <td>Nef</td>\n",
       "      <td>HIV-1</td>\n",
       "      <td>PMID:15596521</td>\n",
       "      <td>{\"frequency\": \"\", \"identification\": \"tetramer-...</td>\n",
       "      <td>{\"cell.subset\": \"CD8+\", \"clone.id\": \"\", \"donor...</td>\n",
       "      <td>{\"cdr3\": \"CASSFEAGQGFFSNQPQHF\", \"cdr3_old\": \"C...</td>\n",
       "      <td>2</td>\n",
       "    </tr>\n",
       "    <tr>\n",
       "      <th>3</th>\n",
       "      <td>2</td>\n",
       "      <td>TRA</td>\n",
       "      <td>CAVPSGAGSYQLTF</td>\n",
       "      <td>TRAV20*01</td>\n",
       "      <td>TRAJ28*01</td>\n",
       "      <td>HomoSapiens</td>\n",
       "      <td>HLA-B*08</td>\n",
       "      <td>B2M</td>\n",
       "      <td>MHCI</td>\n",
       "      <td>FLKEKGGL</td>\n",
       "      <td>Nef</td>\n",
       "      <td>HIV-1</td>\n",
       "      <td>PMID:15596521</td>\n",
       "      <td>{\"frequency\": \"\", \"identification\": \"tetramer-...</td>\n",
       "      <td>{\"cell.subset\": \"CD8+\", \"clone.id\": \"\", \"donor...</td>\n",
       "      <td>{\"cdr3\": \"CAVPSGAGSYQLTF\", \"cdr3_old\": \"CAVPSG...</td>\n",
       "      <td>2</td>\n",
       "    </tr>\n",
       "    <tr>\n",
       "      <th>4</th>\n",
       "      <td>2</td>\n",
       "      <td>TRB</td>\n",
       "      <td>CASSFEPGQGFYSNQPQHF</td>\n",
       "      <td>TRBV13*01</td>\n",
       "      <td>TRBJ1-5*01</td>\n",
       "      <td>HomoSapiens</td>\n",
       "      <td>HLA-B*08</td>\n",
       "      <td>B2M</td>\n",
       "      <td>MHCI</td>\n",
       "      <td>FLKEKGGL</td>\n",
       "      <td>Nef</td>\n",
       "      <td>HIV-1</td>\n",
       "      <td>PMID:15596521</td>\n",
       "      <td>{\"frequency\": \"\", \"identification\": \"tetramer-...</td>\n",
       "      <td>{\"cell.subset\": \"CD8+\", \"clone.id\": \"\", \"donor...</td>\n",
       "      <td>{\"cdr3\": \"CASSFEPGQGFYSNQPQHF\", \"cdr3_old\": \"C...</td>\n",
       "      <td>2</td>\n",
       "    </tr>\n",
       "  </tbody>\n",
       "</table>\n",
       "</div>"
      ],
      "text/plain": [
       "   complex.id Gene                  CDR3            V           J  \\\n",
       "0           1  TRA         CIVRAPGRADMRF  TRAV26-1*01   TRAJ43*01   \n",
       "1           1  TRB  CASSYLPGQGDHYSNQPQHF    TRBV13*01  TRBJ1-5*01   \n",
       "2           0  TRB   CASSFEAGQGFFSNQPQHF    TRBV13*01  TRBJ1-5*01   \n",
       "3           2  TRA        CAVPSGAGSYQLTF    TRAV20*01   TRAJ28*01   \n",
       "4           2  TRB   CASSFEPGQGFYSNQPQHF    TRBV13*01  TRBJ1-5*01   \n",
       "\n",
       "       Species     MHC A MHC B MHC class   Epitope Epitope gene  \\\n",
       "0  HomoSapiens  HLA-B*08   B2M      MHCI  FLKEKGGL          Nef   \n",
       "1  HomoSapiens  HLA-B*08   B2M      MHCI  FLKEKGGL          Nef   \n",
       "2  HomoSapiens  HLA-B*08   B2M      MHCI  FLKEKGGL          Nef   \n",
       "3  HomoSapiens  HLA-B*08   B2M      MHCI  FLKEKGGL          Nef   \n",
       "4  HomoSapiens  HLA-B*08   B2M      MHCI  FLKEKGGL          Nef   \n",
       "\n",
       "  Epitope species      Reference  \\\n",
       "0           HIV-1  PMID:15596521   \n",
       "1           HIV-1  PMID:15596521   \n",
       "2           HIV-1  PMID:15596521   \n",
       "3           HIV-1  PMID:15596521   \n",
       "4           HIV-1  PMID:15596521   \n",
       "\n",
       "                                              Method  \\\n",
       "0  {\"frequency\": \"\", \"identification\": \"tetramer-...   \n",
       "1  {\"frequency\": \"\", \"identification\": \"tetramer-...   \n",
       "2  {\"frequency\": \"\", \"identification\": \"tetramer-...   \n",
       "3  {\"frequency\": \"\", \"identification\": \"tetramer-...   \n",
       "4  {\"frequency\": \"\", \"identification\": \"tetramer-...   \n",
       "\n",
       "                                                Meta  \\\n",
       "0  {\"cell.subset\": \"CD8+\", \"clone.id\": \"\", \"donor...   \n",
       "1  {\"cell.subset\": \"CD8+\", \"clone.id\": \"\", \"donor...   \n",
       "2  {\"cell.subset\": \"CD8+\", \"clone.id\": \"\", \"donor...   \n",
       "3  {\"cell.subset\": \"CD8+\", \"clone.id\": \"\", \"donor...   \n",
       "4  {\"cell.subset\": \"CD8+\", \"clone.id\": \"\", \"donor...   \n",
       "\n",
       "                                             CDR3fix  Score  \n",
       "0  {\"cdr3\": \"CIVRAPGRADMRF\", \"cdr3_old\": \"CIVRAPG...      2  \n",
       "1  {\"cdr3\": \"CASSYLPGQGDHYSNQPQHF\", \"cdr3_old\": \"...      2  \n",
       "2  {\"cdr3\": \"CASSFEAGQGFFSNQPQHF\", \"cdr3_old\": \"C...      2  \n",
       "3  {\"cdr3\": \"CAVPSGAGSYQLTF\", \"cdr3_old\": \"CAVPSG...      2  \n",
       "4  {\"cdr3\": \"CASSFEPGQGFYSNQPQHF\", \"cdr3_old\": \"C...      2  "
      ]
     },
     "execution_count": 147,
     "metadata": {},
     "output_type": "execute_result"
    }
   ],
   "source": [
    "data = pd.read_csv(metadata['path'], sep=metadata['sep'])\n",
    "data = clean_data(data, tcr_col=metadata['tcr_col'], pep_col=metadata['pep_col'])\n",
    "data.head()"
   ]
  },
  {
   "cell_type": "code",
   "execution_count": 148,
   "id": "430b45f9",
   "metadata": {},
   "outputs": [
    {
     "name": "stdout",
     "output_type": "stream",
     "text": [
      "Num unique peptides = 1,150\n"
     ]
    }
   ],
   "source": [
    "peptides = sorted(data[metadata['pep_col']].unique())\n",
    "print(f'Num unique peptides = {len(peptides):,}')"
   ]
  },
  {
   "cell_type": "code",
   "execution_count": 149,
   "id": "fc5e949b",
   "metadata": {},
   "outputs": [
    {
     "name": "stdout",
     "output_type": "stream",
     "text": [
      "Num unique TCRs = 65,645\n"
     ]
    }
   ],
   "source": [
    "tcrs = sorted(data[metadata['tcr_col']].unique())\n",
    "print(f'Num unique TCRs = {len(tcrs):,}')"
   ]
  },
  {
   "cell_type": "code",
   "execution_count": 167,
   "id": "9174790a",
   "metadata": {},
   "outputs": [],
   "source": [
    "peptide_to_tcr = defaultdict(set)\n",
    "tcr_to_peptide = defaultdict(set)\n",
    "\n",
    "for peptide, tcr in zip(data[metadata['pep_col']], data[metadata['tcr_col']]):\n",
    "    peptide_to_tcr[peptide].add(tcr)\n",
    "    tcr_to_peptide[tcr].add(peptide)"
   ]
  },
  {
   "cell_type": "code",
   "execution_count": 168,
   "id": "1c19976a",
   "metadata": {},
   "outputs": [
    {
     "data": {
      "text/plain": [
       "[(2, 407),\n",
       " (4, 126),\n",
       " (1, 90),\n",
       " (3, 78),\n",
       " (6, 57),\n",
       " (5, 46),\n",
       " (7, 39),\n",
       " (8, 33),\n",
       " (9, 19),\n",
       " (10, 17),\n",
       " (12, 17),\n",
       " (14, 16),\n",
       " (11, 8),\n",
       " (13, 8),\n",
       " (15, 8),\n",
       " (22, 7),\n",
       " (18, 7),\n",
       " (19, 6),\n",
       " (21, 5),\n",
       " (30, 5),\n",
       " (16, 5),\n",
       " (25, 5),\n",
       " (20, 4),\n",
       " (32, 4),\n",
       " (17, 4),\n",
       " (63, 3),\n",
       " (31, 3),\n",
       " (58, 3),\n",
       " (29, 3),\n",
       " (28, 3),\n",
       " (69, 2),\n",
       " (61, 2),\n",
       " (53, 2),\n",
       " (108, 2),\n",
       " (60, 2),\n",
       " (254, 2),\n",
       " (26, 2),\n",
       " (148, 2),\n",
       " (51, 2),\n",
       " (66, 2),\n",
       " (264, 2),\n",
       " (50, 2),\n",
       " (54, 2),\n",
       " (240, 2),\n",
       " (76, 2),\n",
       " (44, 2),\n",
       " (36, 2),\n",
       " (48, 2),\n",
       " (91, 2),\n",
       " (35, 2),\n",
       " (146, 1),\n",
       " (303, 1),\n",
       " (64, 1),\n",
       " (136, 1),\n",
       " (82, 1),\n",
       " (1781, 1),\n",
       " (99, 1),\n",
       " (467, 1),\n",
       " (79, 1),\n",
       " (6916, 1),\n",
       " (102, 1),\n",
       " (47, 1),\n",
       " (71, 1),\n",
       " (536, 1),\n",
       " (6589, 1),\n",
       " (1274, 1),\n",
       " (597, 1),\n",
       " (38, 1),\n",
       " (118, 1),\n",
       " (386, 1),\n",
       " (168, 1),\n",
       " (161, 1),\n",
       " (170, 1),\n",
       " (106, 1),\n",
       " (1314, 1),\n",
       " (103, 1),\n",
       " (677, 1),\n",
       " (577, 1),\n",
       " (235, 1),\n",
       " (572, 1),\n",
       " (315, 1),\n",
       " (1494, 1),\n",
       " (3253, 1),\n",
       " (1088, 1),\n",
       " (201, 1),\n",
       " (159, 1),\n",
       " (163, 1),\n",
       " (165, 1),\n",
       " (189, 1),\n",
       " (96, 1),\n",
       " (117, 1),\n",
       " (33, 1),\n",
       " (508, 1),\n",
       " (73, 1),\n",
       " (24635, 1),\n",
       " (819, 1),\n",
       " (78, 1),\n",
       " (68, 1),\n",
       " (93, 1),\n",
       " (52, 1),\n",
       " (417, 1),\n",
       " (137, 1),\n",
       " (586, 1),\n",
       " (200, 1),\n",
       " (57, 1),\n",
       " (83, 1),\n",
       " (41, 1),\n",
       " (487, 1),\n",
       " (85, 1),\n",
       " (67, 1),\n",
       " (81, 1),\n",
       " (145, 1),\n",
       " (226, 1),\n",
       " (126, 1),\n",
       " (132, 1),\n",
       " (480, 1),\n",
       " (500, 1),\n",
       " (234, 1),\n",
       " (131, 1),\n",
       " (511, 1),\n",
       " (111, 1),\n",
       " (46, 1),\n",
       " (23, 1),\n",
       " (34, 1)]"
      ]
     },
     "execution_count": 168,
     "metadata": {},
     "output_type": "execute_result"
    }
   ],
   "source": [
    "tcr_counts_per_peptide = Counter([len(tcrs) for tcrs in peptide_to_tcr.values()])\n",
    "tcr_counts_per_peptide.most_common()"
   ]
  },
  {
   "cell_type": "code",
   "execution_count": 169,
   "id": "71342929",
   "metadata": {},
   "outputs": [
    {
     "data": {
      "text/plain": [
       "[(1, 61513),\n",
       " (2, 3071),\n",
       " (3, 637),\n",
       " (4, 241),\n",
       " (5, 80),\n",
       " (6, 44),\n",
       " (7, 17),\n",
       " (8, 16),\n",
       " (9, 13),\n",
       " (12, 6),\n",
       " (10, 4),\n",
       " (15, 1),\n",
       " (14, 1),\n",
       " (11, 1)]"
      ]
     },
     "execution_count": 169,
     "metadata": {},
     "output_type": "execute_result"
    }
   ],
   "source": [
    "peptide_counts_per_tcr = Counter([len(peptides) for peptides in tcr_to_peptide.values()])\n",
    "peptide_counts_per_tcr.most_common()"
   ]
  },
  {
   "cell_type": "code",
   "execution_count": 170,
   "id": "b7a4bbfc",
   "metadata": {},
   "outputs": [
    {
     "name": "stderr",
     "output_type": "stream",
     "text": [
      "100%|██████████| 100/100 [00:22<00:00,  4.50it/s]\n"
     ]
    }
   ],
   "source": [
    "scoring = substitution_matrices.load(\"BLOSUM62\")\n",
    "gap_open = -5.0\n",
    "gap_extend = -0.5\n",
    "num_peptides = 100  # len(peptides)\n",
    "scores = np.zeros((num_peptides, num_peptides))\n",
    "\n",
    "for i in trange(num_peptides):\n",
    "    for j in range(i + 1, num_peptides):\n",
    "        scores[i, j] = pairwise2.align.globalds(peptides[i], peptides[j], scoring, gap_open, gap_extend, score_only=True)"
   ]
  },
  {
   "cell_type": "code",
   "execution_count": 171,
   "id": "158a929e",
   "metadata": {},
   "outputs": [],
   "source": [
    "scores_flat = [scores[i, j] for i in range(num_peptides) for j in range(i + 1, num_peptides)]"
   ]
  },
  {
   "cell_type": "code",
   "execution_count": 172,
   "id": "7c5dd5d5",
   "metadata": {},
   "outputs": [
    {
     "data": {
      "text/plain": [
       "(array([  2.,   0.,   2.,   2.,   9.,  15.,  17.,  29.,  51.,  47.,  97.,\n",
       "        129.,  59., 191., 257., 202., 302., 336., 109., 358., 346., 243.,\n",
       "        347., 278.,  70., 268., 229., 196., 141., 123.,  99.,  25.,  85.,\n",
       "         74.,  37.,  35.,  31.,   4.,  29.,  14.,  11.,  12.,   5.,   0.,\n",
       "          4.,   2.,   4.,   2.,   0.,   0.,   3.,   0.,   1.,   1.,   0.,\n",
       "          1.,   0.,   0.,   1.,   0.,   0.,   0.,   0.,   0.,   5.,   0.,\n",
       "          1.,   1.,   0.,   0.,   0.,   2.,   1.,   0.,   0.,   0.,   0.,\n",
       "          0.,   0.,   1.,   1.,   0.,   1.,   0.,   0.,   0.,   0.,   0.,\n",
       "          0.,   0.,   0.,   1.,   0.,   0.,   0.,   0.,   0.,   0.,   0.,\n",
       "          1.]),\n",
       " array([-18.  , -17.16, -16.32, -15.48, -14.64, -13.8 , -12.96, -12.12,\n",
       "        -11.28, -10.44,  -9.6 ,  -8.76,  -7.92,  -7.08,  -6.24,  -5.4 ,\n",
       "         -4.56,  -3.72,  -2.88,  -2.04,  -1.2 ,  -0.36,   0.48,   1.32,\n",
       "          2.16,   3.  ,   3.84,   4.68,   5.52,   6.36,   7.2 ,   8.04,\n",
       "          8.88,   9.72,  10.56,  11.4 ,  12.24,  13.08,  13.92,  14.76,\n",
       "         15.6 ,  16.44,  17.28,  18.12,  18.96,  19.8 ,  20.64,  21.48,\n",
       "         22.32,  23.16,  24.  ,  24.84,  25.68,  26.52,  27.36,  28.2 ,\n",
       "         29.04,  29.88,  30.72,  31.56,  32.4 ,  33.24,  34.08,  34.92,\n",
       "         35.76,  36.6 ,  37.44,  38.28,  39.12,  39.96,  40.8 ,  41.64,\n",
       "         42.48,  43.32,  44.16,  45.  ,  45.84,  46.68,  47.52,  48.36,\n",
       "         49.2 ,  50.04,  50.88,  51.72,  52.56,  53.4 ,  54.24,  55.08,\n",
       "         55.92,  56.76,  57.6 ,  58.44,  59.28,  60.12,  60.96,  61.8 ,\n",
       "         62.64,  63.48,  64.32,  65.16,  66.  ]),\n",
       " <BarContainer object of 100 artists>)"
      ]
     },
     "execution_count": 172,
     "metadata": {},
     "output_type": "execute_result"
    },
    {
     "data": {
      "image/png": "[encoded data removed]",
      "text/plain": [
       "<Figure size 432x288 with 1 Axes>"
      ]
     },
     "metadata": {
      "needs_background": "light"
     },
     "output_type": "display_data"
    }
   ],
   "source": [
    "plt.hist(scores_flat, bins=100)"
   ]
  },
  {
   "cell_type": "code",
   "execution_count": 173,
   "id": "d907566d",
   "metadata": {},
   "outputs": [
    {
     "name": "stdout",
     "output_type": "stream",
     "text": [
      "Scores = -0.06 +/- 6.29\n",
      "Threshold = mean + 3 * std = 18.80706554894174\n"
     ]
    }
   ],
   "source": [
    "mean = np.mean(scores_flat)\n",
    "std = np.std(scores_flat)\n",
    "print(f'Scores = {mean:.2f} +/- {std:.2f}')\n",
    "\n",
    "threshold = mean + 3 * std\n",
    "print(f'Threshold = mean + 3 * std = {threshold}')\n",
    "\n",
    "I, J = np.where(scores > threshold)"
   ]
  },
  {
   "cell_type": "code",
   "execution_count": 174,
   "id": "b0ed06f2",
   "metadata": {},
   "outputs": [
    {
     "name": "stdout",
     "output_type": "stream",
     "text": [
      "AAGIGILTV ALGIGILTV\n",
      "AALALLLLDRLNQLE ALALLLLDR\n",
      "ADGLAYFRSSFKGG ADLIAYLEQATKG\n",
      "ADGLAYFRSSFKGG ADLIAYLKQATKG\n",
      "ADGLAYFRSSFKGG ADSLSFFSSSIKRGGGSLVP\n",
      "ADGLAYFRSSFKGG ANGVAFFLTPFKA\n",
      "ADLIAYLEQATKG ADLIAYLKQATKG\n",
      "ALDPHSGHFV ALSKGVHFV\n",
      "ALGIGILTV CLGGLLTMV\n",
      "ALLLQLFTL AMQTMLFTM\n",
      "ALNLGETFV ALSKGVHFV\n",
      "ALSPVIPHI ALTPVVVTL\n",
      "ALTPVVVTL CLTPVYSFL\n",
      "ALWGFFPVL ALWGPDPAAA\n",
      "ALWGFFPVL ALYGFVPVL\n",
      "ALWGPDPAAA AQWGPDPAAA\n",
      "AMDEFIEQY AMDEFIERY\n",
      "APLLSAGIF APLLSAGVF\n",
      "APMPMPELPYP APQPELPYPQPG\n",
      "APMPMPELPYP APQPELPYPQPGS\n",
      "APMPMPELPYP AVVQSELPYPEGS\n",
      "APQPELPYPQPG APQPELPYPQPGS\n",
      "APQPELPYPQPG AVVQSELPYPEGS\n",
      "APQPELPYPQPGS AVVQSELPYPEGS\n",
      "APRGPHGGAASGL APRITFGGL\n",
      "APRITFGGL APTKVTFGV\n",
      "ATDALMTGF ATDALMTGY\n",
      "ATSRMLSYY ATSRTLSYY\n",
      "AVGSYVYSV CLGSLIYST\n",
      "CFAYYFMRF CLAYYFMRF\n",
      "CLEASFNYL CLTPVYSFL\n",
      "CLGGLLTMV CLGSLIYST\n",
      "CLNEYHLFL CLTPVYSFL\n",
      "CPACHNSEV CPACYNSEV\n"
     ]
    }
   ],
   "source": [
    "for i, j in zip(I, J):\n",
    "    print(peptides[i], peptides[j])"
   ]
  },
  {
   "cell_type": "code",
   "execution_count": 175,
   "id": "2c6423fb",
   "metadata": {},
   "outputs": [],
   "source": [
    "graph = nx.Graph()\n",
    "graph.add_nodes_from(peptides[:num_peptides])\n",
    "for i, j in zip(I, J):\n",
    "    graph.add_edge(peptides[i], peptides[j])"
   ]
  },
  {
   "cell_type": "code",
   "execution_count": 176,
   "id": "da5eccf3",
   "metadata": {},
   "outputs": [],
   "source": [
    "components = [sorted(component) for component in sorted(nx.connected_components(graph), key=len, reverse=True) if len(component) > 1]\n",
    "connected_peptides = [peptide for component in components for peptide in component]\n",
    "connnected_graph = graph.subgraph(connected_peptides)"
   ]
  },
  {
   "cell_type": "code",
   "execution_count": 177,
   "id": "4372ddcc",
   "metadata": {},
   "outputs": [
    {
     "data": {
      "image/png": "[encoded data removed]",
      "text/plain": [
       "<Figure size 864x864 with 1 Axes>"
      ]
     },
     "metadata": {},
     "output_type": "display_data"
    }
   ],
   "source": [
    "plt.figure(figsize=(12,12)) \n",
    "nx.draw_networkx(connnected_graph, node_size=100, font_size=8)"
   ]
  },
  {
   "cell_type": "code",
   "execution_count": 178,
   "id": "2bfb5119",
   "metadata": {},
   "outputs": [
    {
     "name": "stdout",
     "output_type": "stream",
     "text": [
      "Component 1\n",
      "\n",
      "Num peptides = 5\n",
      "Num shared TCRs = 5\n",
      "\n",
      "CASSLNNANSDYTF: 4\n",
      "CAAEASNTNKVVF: 2\n",
      "CAAEPSSGQKLVF: 2\n",
      "CASSLNWSQDTQYF: 2\n",
      "CAALRATGGNNKLTF: 2\n",
      "\n",
      "--------------------\n",
      "\n",
      "Component 3\n",
      "\n",
      "Num peptides = 4\n",
      "Num shared TCRs = 2\n",
      "\n",
      "CAMRGDSSYKLIF: 2\n",
      "CASSLWEKLAKNIQYF: 2\n",
      "\n",
      "--------------------\n",
      "\n",
      "Component 4\n",
      "\n",
      "Num peptides = 4\n",
      "Num shared TCRs = 2\n",
      "\n",
      "CASSFRALAADTQYF: 2\n",
      "CIAFQGAQKLVF: 2\n",
      "\n",
      "--------------------\n",
      "\n",
      "Component 11\n",
      "\n",
      "Num peptides = 2\n",
      "Num shared TCRs = 5\n",
      "\n",
      "CASRTGISNTGELFF: 2\n",
      "CASRGDTFYEQYF: 2\n",
      "CASSLVGQLDEQYF: 2\n",
      "CASSGTRQISGTEAFF: 2\n",
      "CASSLSGQLDTQYF: 2\n",
      "\n",
      "--------------------\n",
      "\n"
     ]
    }
   ],
   "source": [
    "for index, component in enumerate(components):\n",
    "    tcr_to_count = defaultdict(int)\n",
    "\n",
    "    for peptide in component:\n",
    "        for tcr in peptide_to_tcr[peptide]:\n",
    "            tcr_to_count[tcr] += 1\n",
    "\n",
    "    num_shared_tcrs = sum(count > 1 for count in tcr_to_count.values())\n",
    "\n",
    "    if num_shared_tcrs > 0:\n",
    "        print(f'Component {index}\\n')\n",
    "        print(f'Num peptides = {len(component):,}')\n",
    "        print(f'Num shared TCRs = {num_shared_tcrs:,}\\n')\n",
    "\n",
    "        for tcr, count in tcr_to_count.items():\n",
    "            if count > 1:\n",
    "                print(f'{tcr}: {count:,}')\n",
    "\n",
    "        print('\\n' + '-' * 20 + '\\n')"
   ]
  }
 ],
 "metadata": {
  "kernelspec": {
   "display_name": "Python 3",
   "language": "python",
   "name": "python3"
  },
  "language_info": {
   "codemirror_mode": {
    "name": "ipython",
    "version": 3
   },
   "file_extension": ".py",
   "mimetype": "text/x-python",
   "name": "python",
   "nbconvert_exporter": "python",
   "pygments_lexer": "ipython3",
   "version": "3.9.2"
  }
 },
 "nbformat": 4,
 "nbformat_minor": 5
}
